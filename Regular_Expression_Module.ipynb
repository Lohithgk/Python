{
 "cells": [
  {
   "cell_type": "code",
   "execution_count": 2,
   "metadata": {},
   "outputs": [],
   "source": [
    "import re"
   ]
  },
  {
   "cell_type": "code",
   "execution_count": 39,
   "metadata": {},
   "outputs": [
    {
     "name": "stdout",
     "output_type": "stream",
     "text": [
      "1000000\n"
     ]
    }
   ],
   "source": [
    "# Extract the number from the string\n",
    "target_str = \"My roll number is 1000000\"\n",
    "res = re.findall(r\"\\d+\", target_str)\n",
    "print(res[0])"
   ]
  },
  {
   "cell_type": "code",
   "execution_count": 40,
   "metadata": {},
   "outputs": [
    {
     "name": "stdout",
     "output_type": "stream",
     "text": [
      "My roll number is \n"
     ]
    }
   ],
   "source": [
    "# Extract the number from the string\n",
    "target_str = \"My roll number is 1000000\"\n",
    "res = re.findall(r\"\\D+\", target_str)\n",
    "print(res[0])"
   ]
  },
  {
   "cell_type": "code",
   "execution_count": 18,
   "metadata": {},
   "outputs": [
    {
     "name": "stdout",
     "output_type": "stream",
     "text": [
      "PINEAPPLE\n"
     ]
    }
   ],
   "source": [
    "# Extract the UPPER LETTER CHARACTER from the string - \\b indicates a word boundary\n",
    "target_string = \"The price of PINEAPPLE ice cream is 20\"\n",
    "result = re.search(r\"([A-Z]+\\b)\", target_string)\n",
    "print(result.group())"
   ]
  },
  {
   "cell_type": "code",
   "execution_count": 4,
   "metadata": {},
   "outputs": [
    {
     "name": "stdout",
     "output_type": "stream",
     "text": [
      "['Myroll']\n"
     ]
    }
   ],
   "source": [
    "#  a Python RegEx Example of how we can use w+ and ^ expression in our code\n",
    "# “^”: This expression matches the start of a string\n",
    "# “w+“: This expression matches the alphanumeric character in the string\n",
    "\n",
    "target_str = \"Myroll number is 1000000\"\n",
    "res = re.findall(r\"^\\w+\", target_str)\n",
    "print(res)"
   ]
  },
  {
   "cell_type": "code",
   "execution_count": 13,
   "metadata": {},
   "outputs": [
    {
     "name": "stdout",
     "output_type": "stream",
     "text": [
      "['Lohith', 'Priya', 'Takshvi']\n"
     ]
    }
   ],
   "source": [
    "# Text is multiline, USE re.MULTILINE in findall function to find \"First word\" in the line\n",
    "# use \\w+, ^\n",
    "target_str = \"\"\"\n",
    "Lohith is great\n",
    "Priya is also great\n",
    "Takshvi is our daughter\n",
    "\"\"\"\n",
    "res = re.findall(r\"^\\w+\", target_str,re.MULTILINE)\n",
    "print(res)"
   ]
  },
  {
   "cell_type": "code",
   "execution_count": 16,
   "metadata": {},
   "outputs": [
    {
     "name": "stdout",
     "output_type": "stream",
     "text": [
      "['engineer', 'graduate', 'daughter']\n"
     ]
    }
   ],
   "source": [
    "# Text is multiline, USE re.MULTILINE in findall function to find \"last word\" in the line\n",
    "# use \\w+, $\n",
    "target_str = \"\"\"\n",
    "Lohith is an engineer\n",
    "Priya is graduate\n",
    "Takshvi is our daughter\n",
    "\"\"\"\n",
    "res = re.findall(r\"\\w+$\", target_str,re.MULTILINE)\n",
    "print(res)"
   ]
  }
 ],
 "metadata": {
  "kernelspec": {
   "display_name": "Python 3.10.5 64-bit",
   "language": "python",
   "name": "python3"
  },
  "language_info": {
   "codemirror_mode": {
    "name": "ipython",
    "version": 3
   },
   "file_extension": ".py",
   "mimetype": "text/x-python",
   "name": "python",
   "nbconvert_exporter": "python",
   "pygments_lexer": "ipython3",
   "version": "3.10.5"
  },
  "orig_nbformat": 4,
  "vscode": {
   "interpreter": {
    "hash": "e5ba58d3e2c97bce69b4b81c11ac37d8a72f7abda7452afa896abf27c10a6419"
   }
  }
 },
 "nbformat": 4,
 "nbformat_minor": 2
}
