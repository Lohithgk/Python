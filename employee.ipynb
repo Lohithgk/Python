{
 "cells": [
  {
   "cell_type": "markdown",
   "metadata": {},
   "source": [
    "Import necessary Modules"
   ]
  },
  {
   "cell_type": "code",
   "execution_count": 13,
   "metadata": {},
   "outputs": [],
   "source": [
    "\n",
    "import pandas as pd\n",
    "import pandasql as ps\n",
    "from sqlalchemy.engine import URL\n",
    "from sqlalchemy import create_engine\n"
   ]
  },
  {
   "cell_type": "markdown",
   "metadata": {},
   "source": [
    "Establish connection string to SQL SERVER"
   ]
  },
  {
   "cell_type": "code",
   "execution_count": 14,
   "metadata": {},
   "outputs": [],
   "source": [
    "connection_string = \"DRIVER={SQL Server};SERVER=LOHITHGK;DATABASE=AdWorks\"\n",
    "connection_url = URL.create(\n",
    "    \"mssql+pyodbc\", query={\"odbc_connect\": connection_string})\n",
    "\n",
    "connection = create_engine(connection_url)"
   ]
  },
  {
   "cell_type": "markdown",
   "metadata": {},
   "source": [
    "Get the data from SQL DATABASE Tables."
   ]
  },
  {
   "cell_type": "code",
   "execution_count": 15,
   "metadata": {},
   "outputs": [],
   "source": [
    "PP = pd.read_sql_query(\n",
    "    sql='SELECT * FROM [AdWorks].[Person].[Person]', con=connection)\n",
    "\n",
    "# Convert SQL to DataFrame\n",
    "Person_Person = pd.DataFrame(PP)"
   ]
  },
  {
   "cell_type": "code",
   "execution_count": 16,
   "metadata": {},
   "outputs": [],
   "source": [
    "PH = pd.read_sql_query(\n",
    "    sql='SELECT * FROM [AdWorks].[Person].[PersonPhone]', con=connection)\n",
    "\n",
    "# Convert SQL to DataFrame\n",
    "Person_PersonPhone = pd.DataFrame(PH)"
   ]
  },
  {
   "cell_type": "code",
   "execution_count": 17,
   "metadata": {},
   "outputs": [],
   "source": [
    "EA = pd.read_csv(r\"C:\\Users\\user\\Desktop\\EmailAddress.csv\")\n",
    "\n",
    "# Convert SQL to DataFrame\n",
    "Person_EmailAddress = pd.DataFrame(EA)"
   ]
  },
  {
   "cell_type": "code",
   "execution_count": 18,
   "metadata": {},
   "outputs": [],
   "source": [
    "EM = pd.read_sql_query(\n",
    "    sql='SELECT * FROM [AdWorks].[HumanResources].[Employee]', con=connection)\n",
    "\n",
    "# Convert SQL to DataFrame\n",
    "HumanResources_Employee = pd.DataFrame(EM)"
   ]
  },
  {
   "cell_type": "markdown",
   "metadata": {},
   "source": [
    "Process the data and save the result in CSV format"
   ]
  },
  {
   "cell_type": "code",
   "execution_count": 19,
   "metadata": {},
   "outputs": [],
   "source": [
    "\n",
    "df = ps.sqldf(\n",
    "    \"\"\"\n",
    "SELECT \n",
    "       PP.BusinessEntityID      \n",
    "      ,pp.FirstName\n",
    "      ,pp.LastName\n",
    "\t  ,pp.FirstName ||' '|| pp.LastName as [Name]\n",
    "\t  ,PH.PhoneNumber\n",
    "\t  ,EA.EmailAddress\n",
    "\t  ,EM.JobTitle\n",
    "\t  ,EM.MaritalStatus\n",
    "\t  ,EM.Gender\t  \n",
    "\n",
    "  FROM Person_Person as PP\n",
    "  LEFT JOIN Person_PersonPhone as PH ON PH.BusinessEntityID = PP.BusinessEntityID\n",
    "  LEFT JOIN Person_EmailAddress as EA ON EA.BusinessEntityID = PP.BusinessEntityID\n",
    "  LEFT JOIN HumanResources_Employee as EM ON EM.BusinessEntityID = PP.BusinessEntityID    \n",
    "    \"\"\"\n",
    ")"
   ]
  },
  {
   "cell_type": "markdown",
   "metadata": {},
   "source": [
    "Write the data to CSV file in the local folder"
   ]
  },
  {
   "cell_type": "code",
   "execution_count": 20,
   "metadata": {},
   "outputs": [],
   "source": [
    "df.to_csv('emp.csv', encoding='utf-8', index=False)"
   ]
  },
  {
   "cell_type": "markdown",
   "metadata": {},
   "source": [
    "Write the data to the table Employee_output in the AdWorks Database, if_exists{‘fail’, ‘replace’, ‘append’}, default is ‘fail’. 1. fail: Raise a ValueError, 2. replace: Drop the table before inserting new values, 3. append: Insert new values to the existing table."
   ]
  },
  {
   "cell_type": "code",
   "execution_count": 21,
   "metadata": {},
   "outputs": [
    {
     "data": {
      "text/plain": [
       "-1"
      ]
     },
     "execution_count": 21,
     "metadata": {},
     "output_type": "execute_result"
    }
   ],
   "source": [
    "df.to_sql('Employee_output', con= connection, if_exists='replace')"
   ]
  },
  {
   "cell_type": "code",
   "execution_count": 22,
   "metadata": {},
   "outputs": [],
   "source": [
    "connection.dispose()"
   ]
  }
 ],
 "metadata": {
  "kernelspec": {
   "display_name": "Python 3.10.3 64-bit",
   "language": "python",
   "name": "python3"
  },
  "language_info": {
   "codemirror_mode": {
    "name": "ipython",
    "version": 3
   },
   "file_extension": ".py",
   "mimetype": "text/x-python",
   "name": "python",
   "nbconvert_exporter": "python",
   "pygments_lexer": "ipython3",
   "version": "3.10.3"
  },
  "orig_nbformat": 4,
  "vscode": {
   "interpreter": {
    "hash": "0637dabcafe78c26ecb06f1d7bd4ad6b10f30890c45624e21106886b49e792fd"
   }
  }
 },
 "nbformat": 4,
 "nbformat_minor": 2
}
